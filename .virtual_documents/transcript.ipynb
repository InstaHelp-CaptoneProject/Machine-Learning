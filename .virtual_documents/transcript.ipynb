


import os
import re
import pandas as pd
import numpy as np
import matplotlib.pyplot as plt
import seaborn as sns





# path file dataset
file_path = 'Dataset/validated.tsv'

# membaca dataset
df = pd.read_csv(file_path, sep='\t')

# menampilkan dataset
df.head()





df.info()


# mengecek data hilang
missing_values = df.isnull()
duplicates = df.duplicated()

print(f"Data hilang: \n{missing_values.sum()}")
print(f"Data duplikat: \n{duplicates.sum()}")


df.describe()
df.head()





# menghapus kolom selain sentence dan path

df.drop(columns=[col for col in df.columns if col not in ['sentence', 'path']], inplace=True)


# mengubah ke huruf kecil
df['sentence'] = df['sentence'].str.lower()

# menghapus karakter special
df['sentence'] = df['sentence'].str.replace(r'[^\w\s]', '', regex=True)

# menghapus spasi
df['sentence'] = df['sentence'].str.strip()


missing_values = df.isnull()
duplicates = df.duplicated()

print(f"Data hilang: \n{missing_values.sum()}")
print(f"Data duplikat: \n{duplicates.sum()}")


total_sentences = df.shape[0]
total_unique_sentences = df['sentence'].nunique()
total_audio_files = df['path'].nunique()

print(f"Jumlah total kalimat: {total_sentences}")
print(f"Jumlah kalimat unik: {total_unique_sentences}")
print(f"Jumlah file audio unik: {total_audio_files}")


# Menambahkan kolom panjang kalimat dalam bentuk jumlah kata
df['word_count'] = df['sentence'].apply(lambda x: len(x.split()))

# Menambahkan kolom panjang kalimat dalam jumlah karakter
df['char_count'] = df['sentence'].apply(len)

# Menampilkan deskripsi data
print(df.describe())





from collections import Counter

# Membuat daftar semua kata dalam dataset
all_words = ' '.join(df['sentence']).split()

# Menghitung frekuensi kata
word_freq = Counter(all_words)

# Mengambil 30 kata yang paling sering muncul
common_words = word_freq.most_common(30)
words, counts = zip(*common_words)


plt.figure(figsize=(10, 6))
sns.histplot(df['char_count'], bins=30, kde=True)
plt.title('Distribusi Panjang Kalimat')
plt.xlabel('Jumlah Karakter')
plt.ylabel('Frekuensi')
plt.show()


plt.figure(figsize=(10, 6))
sns.histplot(df['word_count'], bins=30, kde=True)
plt.title('Distribusi Jumlah Kata per Kalimat')
plt.xlabel('Jumlah Kata')
plt.ylabel('Frekuensi')
plt.show()


plt.figure(figsize=(10, 6))
sns.barplot(x=list(words), y=list(counts))
plt.title('30 Kata yang Paling Sering Muncul')
plt.xlabel('Kata')
plt.ylabel('Frekuensi')
plt.xticks(rotation=45)
plt.show()


from wordcloud import WordCloud

# Membuat teks gabungan dari semua kalimat dalam dataset
text = ' '.join(df['sentence'])

# Membuat word cloud
wordcloud = WordCloud(width=800, height=400, background_color='white').generate(text)

# Plot word cloud
plt.figure(figsize=(10, 6))
plt.imshow(wordcloud, interpolation='bilinear')
plt.axis('off')
plt.title('Word Cloud dari Kalimat dalam Dataset')
plt.show()


df.drop(columns=[col for col in df.columns if col not in ['sentence', 'path']], inplace=True)


data = pd.DataFrame(df)

data.to_csv('Dataset/data.csv', index=False)
