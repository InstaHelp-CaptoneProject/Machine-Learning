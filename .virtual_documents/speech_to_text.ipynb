import tensorflow as tf
import numpy as np
import matplotlib.pyplot as plt
import io
import os
import re
import string
from tensorflow.keras.models import Model
from tensorflow.keras.layers import Layer
from tensorflow.keras.layers import (
  Embedding,Input,LSTM,Input,Conv2D,Softmax,Dropout,Dense,GRU,
  MaxPooling2D,LayerNormalization,Reshape,BatchNormalization,Bidirectional)
from tensorflow.keras.optimizers import Adam


BATCH_SIZE=32
LR=1e-4
FRAME_LENGTH=255
FRAME_STEP=128
N_EPOCHS=100


print(f"TensorFlow Version: {tf.__version__}")
print(f"TensorFlow I/O Version: {tfio.__version__}")


# Membaca file .mp3
file_path = "Dataset/clips/common_voice_id_19051299.mp3"
audio_binary = tf.io.read_file(file_path)
audio = tfio.audio.decode_mp3(audio_binary)

# Memproses waveform
waveform = tf.squeeze(audio, axis=-1)
waveform = tf.cast(waveform, tf.float32)
signal = waveform

# Menampilkan shape dari audio
print(f"Shape: {signal.shape}")



